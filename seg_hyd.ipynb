{
 "cells": [
  {
   "cell_type": "markdown",
   "metadata": {},
   "source": [
    "<h1>Segmentation of best localities in Hyderabad</h1>"
   ]
  },
  {
   "cell_type": "markdown",
   "metadata": {},
   "source": [
    "<br>\n",
    "<h3>Introduction</h3>\n",
    "<p>In this Capstone project I'm using a scenario where a new family comes to Hyderabad for settling. The first problem they face was is which area is best to choose for residency. Hyderabad is a vast city which many localities. So, finding a best area with all the facilities is important. Every person wants a house that is near to hostipals, schools, parks etc. In project helps a person to find the best area for buying a new house.</p>"
   ]
  },
  {
   "cell_type": "markdown",
   "metadata": {},
   "source": [
    "<br>\n",
    "<h3>Business Problem</h3>\n",
    "<p>The objective of this project is to determine the best neighborhood in hyderabad to buy a new house which is near to parks, restaurents, office etc. With the help of clustering, we would be able to determine the best neighborhood.</p>"
   ]
  },
  {
   "cell_type": "markdown",
   "metadata": {},
   "source": [
    "<br>\n",
    "<h3>Data</h3>\n",
    "<p>To solve this problem, we will require following data :</p>\n",
    "<ul>\n",
    "    <li>Hyderabad localities list</li>\n",
    "    <li>Average property rates per sqft in different localities</li>\n",
    "    <li>Schools, Hospitals, Office near the area</li>\n",
    "    <li>Places to visit in each area</li>\n",
    "    <li>Latitude and Longitude of near area</li>\n",
    "</ul>\n",
    "    "
   ]
  },
  {
   "cell_type": "markdown",
   "metadata": {},
   "source": [
    "<br>\n",
    "<h3>Data Extraction</h3>\n",
    "<ul>\n",
    "    <li>Hyderabad localities and property rates from makaan.com using web scrapping</li>\n",
    "    <li>Nearby schools, hostipal, places to visit in each area using Four Square API</li>\n",
    "    <li>Latitude and Longitude dataset of near area using Geocoder package</li>\n",
    "</ul>"
   ]
  },
  {
   "cell_type": "code",
   "execution_count": null,
   "metadata": {},
   "outputs": [],
   "source": []
  },
  {
   "cell_type": "code",
   "execution_count": null,
   "metadata": {},
   "outputs": [],
   "source": []
  }
 ],
 "metadata": {
  "kernelspec": {
   "display_name": "Python 3",
   "language": "python",
   "name": "python3"
  },
  "language_info": {
   "codemirror_mode": {
    "name": "ipython",
    "version": 3
   },
   "file_extension": ".py",
   "mimetype": "text/x-python",
   "name": "python",
   "nbconvert_exporter": "python",
   "pygments_lexer": "ipython3",
   "version": "3.6.8"
  }
 },
 "nbformat": 4,
 "nbformat_minor": 2
}
